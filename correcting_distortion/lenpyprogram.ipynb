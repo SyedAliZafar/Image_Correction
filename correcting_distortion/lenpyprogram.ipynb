{
 "cells": [
  {
   "cell_type": "code",
   "execution_count": 23,
   "id": "eb7f89ca",
   "metadata": {},
   "outputs": [],
   "source": [
    "# https://github.com/letmaik/lensfunpy\n",
    "# correct code at the bottom\n",
    "# remove barrel disortion\n"
   ]
  },
  {
   "cell_type": "code",
   "execution_count": 33,
   "id": "d07ed04e",
   "metadata": {},
   "outputs": [],
   "source": [
    "import numpy as np\n",
    "from matplotlib import pyplot as plt\n",
    "import cv2\n",
    "import scipy.ndimage\n",
    "import lensfunpy"
   ]
  },
  {
   "cell_type": "code",
   "execution_count": null,
   "id": "f83b061b",
   "metadata": {},
   "outputs": [],
   "source": []
  },
  {
   "cell_type": "markdown",
   "id": "c40e67db",
   "metadata": {},
   "source": [
    "## Distort Image"
   ]
  },
  {
   "cell_type": "code",
   "execution_count": 34,
   "id": "05b94125",
   "metadata": {},
   "outputs": [
    {
     "name": "stdout",
     "output_type": "stream",
     "text": [
      "Camera(Maker: Nikon Corporation; Model: Nikon D3S; Mount: Nikon F AF; Crop Factor: 1.0; Score: 0)\n"
     ]
    }
   ],
   "source": [
    "import lensfunpy\n",
    "\n",
    "cam_maker = 'NIKON CORPORATION'\n",
    "cam_model = 'NIKON D3S'\n",
    "lens_maker = 'Nikon'\n",
    "lens_model = 'Nikkor 28mm f/2.8D AF'\n",
    "\n",
    "db = lensfunpy.Database()\n",
    "cam = db.find_cameras(cam_maker, cam_model)[0]\n",
    "lens = db.find_lenses(cam, lens_maker, lens_model)[0]\n",
    "\n",
    "print(cam)\n"
   ]
  },
  {
   "cell_type": "code",
   "execution_count": 41,
   "id": "c80aa2ed",
   "metadata": {},
   "outputs": [],
   "source": [
    "import cv2 # OpenCV library\n",
    "\n",
    "focal_length = 28.0\n",
    "aperture = 1.4\n",
    "distance = 10\n",
    "image_path = '../Images/distorted_images/distortion_0.1.png'\n",
    "undistorted_image_path = '../Images/distorted_images/result_distorted_0.1.png'\n",
    "\n",
    "im = cv2.imread(image_path)\n",
    "height, width = im.shape[0], im.shape[1]\n",
    "\n",
    "mod = lensfunpy.Modifier(lens, cam.crop_factor, width, height)\n",
    "mod.initialize(focal_length, aperture, distance)\n",
    "\n",
    "undist_coords = mod.apply_geometry_distortion()\n",
    "im_undistorted = cv2.remap(im, undist_coords, None,cv2.INTER_LANCZOS4)\n",
    "cv2.imwrite(undistorted_image_path, im_undistorted)\n",
    "cv2.imshow(\"window\",im_undistorted)\n",
    "cv2.waitKey(0)\n",
    "cv2.destroyAllWindows()"
   ]
  },
  {
   "cell_type": "markdown",
   "id": "c1dbfbd8",
   "metadata": {},
   "source": [
    "## Undistord Image"
   ]
  },
  {
   "cell_type": "code",
   "execution_count": null,
   "id": "421a265d",
   "metadata": {},
   "outputs": [],
   "source": []
  },
  {
   "cell_type": "code",
   "execution_count": 13,
   "id": "64dd5d61",
   "metadata": {},
   "outputs": [],
   "source": [
    "import cv2 # OpenCV library\n",
    "\n",
    "focal_length = -30.0\n",
    "aperture = 1.4\n",
    "distance = 100\n",
    "image_path = '../Images/step1/distorted.png'\n",
    "undistorted_image_path = '../Images/step1/fl_ap1.png'\n",
    "\n",
    "im = cv2.imread(image_path)\n",
    "height, width = im.shape[0], im.shape[1]\n",
    "\n",
    "mod = lensfunpy.Modifier(lens, cam.crop_factor, width, height)\n",
    "mod.initialize(focal_length, aperture, distance)\n",
    "\n",
    "undist_coords = mod.apply_geometry_distortion()\n",
    "im_undistorted = cv2.remap(im, undist_coords, None, cv2.I)\n",
    "cv2.imwrite(undistorted_image_path, im_undistorted)\n",
    "cv2.imshow(\"window\",im_undistorted)\n",
    "cv2.waitKey(0)\n",
    "cv2.destroyAllWindows()"
   ]
  },
  {
   "cell_type": "code",
   "execution_count": null,
   "id": "65f15dbc",
   "metadata": {},
   "outputs": [],
   "source": []
  },
  {
   "cell_type": "code",
   "execution_count": null,
   "id": "74e2e123",
   "metadata": {},
   "outputs": [],
   "source": []
  },
  {
   "cell_type": "code",
   "execution_count": null,
   "id": "57739d55",
   "metadata": {},
   "outputs": [],
   "source": []
  },
  {
   "cell_type": "markdown",
   "id": "6aa56707",
   "metadata": {},
   "source": [
    "## Vignetting Correction"
   ]
  },
  {
   "cell_type": "code",
   "execution_count": 9,
   "id": "bc951fbc",
   "metadata": {},
   "outputs": [],
   "source": [
    "import lensfunpy\n",
    "import imageio\n",
    "\n",
    "db = lensfunpy.Database()\n",
    "cam = db.find_cameras('NIKON CORPORATION', 'NIKON D3S')[0]\n",
    "lens = db.find_lenses(cam, 'Nikon', 'Nikkor AF 20mm f/2.8D')[0]\n",
    "\n",
    "img = imageio.imread('../Images/example_01.png')\n",
    "\n",
    "focal_length = 20\n",
    "aperture = 4\n",
    "distance = 10\n",
    "width = img.shape[1]\n",
    "height = img.shape[0]\n",
    "\n",
    "mod = lensfunpy.Modifier(lens, cam.crop_factor, width, height)\n",
    "mod.initialize(focal_length, aperture, distance)\n",
    "\n",
    "did_apply = mod.apply_color_modification(img)\n",
    "if did_apply:\n",
    "    imageio.imwrite('corrected.tiff', img)\n",
    "else:\n",
    "    print('vignetting not corrected, calibration data missing?')"
   ]
  },
  {
   "cell_type": "code",
   "execution_count": null,
   "id": "b77852d5",
   "metadata": {},
   "outputs": [],
   "source": []
  },
  {
   "cell_type": "code",
   "execution_count": null,
   "id": "ff92b6b7",
   "metadata": {},
   "outputs": [],
   "source": []
  },
  {
   "cell_type": "code",
   "execution_count": null,
   "id": "959e02c3",
   "metadata": {},
   "outputs": [],
   "source": []
  },
  {
   "cell_type": "code",
   "execution_count": null,
   "id": "af8e23c7",
   "metadata": {},
   "outputs": [],
   "source": []
  },
  {
   "cell_type": "code",
   "execution_count": null,
   "id": "c467ad39",
   "metadata": {},
   "outputs": [],
   "source": []
  },
  {
   "cell_type": "code",
   "execution_count": null,
   "id": "9e7b17f1",
   "metadata": {},
   "outputs": [],
   "source": []
  },
  {
   "cell_type": "code",
   "execution_count": null,
   "id": "093a7d77",
   "metadata": {},
   "outputs": [],
   "source": []
  },
  {
   "cell_type": "code",
   "execution_count": 22,
   "id": "80b828c9",
   "metadata": {},
   "outputs": [
    {
     "data": {
      "text/plain": [
       "'\\n\\nimport cv2 # OpenCV library\\n\\nfocal_length = 28.0\\naperture = 12.4\\ndistance = 100\\nimage_path = \\'../Images/example_01.png\\'\\nundistorted_image_path = \\'../Images/step1/distorted.png\\'\\n\\nim = cv2.imread(image_path)\\nheight, width = im.shape[0], im.shape[1]\\n\\nmod = lensfunpy.Modifier(lens, cam.crop_factor, width, height)\\nmod.initialize(focal_length, aperture, distance)\\n\\nundist_coords = mod.apply_geometry_distortion()\\nim_undistorted = cv2.remap(im, undist_coords, None, cv2.INTER_LANCZOS4)\\n#cv2.imwrite(undistorted_image_path, im_undistorted)\\ncv2.imshow(\"window\",im_undistorted)\\ncv2.waitKey(0)\\ncv2.destroyAllWindows()\\n\\n'"
      ]
     },
     "execution_count": 22,
     "metadata": {},
     "output_type": "execute_result"
    }
   ],
   "source": [
    "##' RIGHT CODE'\n",
    "\n",
    "'''\n",
    "import cv2 # OpenCV library\n",
    "\n",
    "focal_length = 28.0\n",
    "aperture = 12.4\n",
    "distance = 100\n",
    "image_path = '../Images/example_01.png'\n",
    "undistorted_image_path = '../Images/step1/distorted.png'\n",
    "\n",
    "im = cv2.imread(image_path)\n",
    "height, width = im.shape[0], im.shape[1]\n",
    "\n",
    "mod = lensfunpy.Modifier(lens, cam.crop_factor, width, height)\n",
    "mod.initialize(focal_length, aperture, distance)\n",
    "\n",
    "undist_coords = mod.apply_geometry_distortion()\n",
    "im_undistorted = cv2.remap(im, undist_coords, None, cv2.INTER_LANCZOS4)\n",
    "#cv2.imwrite(undistorted_image_path, im_undistorted)\n",
    "cv2.imshow(\"window\",im_undistorted)\n",
    "cv2.waitKey(0)\n",
    "cv2.destroyAllWindows()\n",
    "\n",
    "'''"
   ]
  },
  {
   "cell_type": "code",
   "execution_count": null,
   "id": "7b5a9720",
   "metadata": {},
   "outputs": [],
   "source": []
  }
 ],
 "metadata": {
  "kernelspec": {
   "display_name": "Python 3",
   "language": "python",
   "name": "python3"
  },
  "language_info": {
   "codemirror_mode": {
    "name": "ipython",
    "version": 3
   },
   "file_extension": ".py",
   "mimetype": "text/x-python",
   "name": "python",
   "nbconvert_exporter": "python",
   "pygments_lexer": "ipython3",
   "version": "3.6.15"
  }
 },
 "nbformat": 4,
 "nbformat_minor": 5
}
