{
 "cells": [
  {
   "cell_type": "code",
   "execution_count": 1,
   "id": "1f984679",
   "metadata": {},
   "outputs": [],
   "source": [
    "# https://stackoverflow.com/questions/26602981/correct-barrel-distortion-in-opencv-manually-without-chessboard-image"
   ]
  },
  {
   "cell_type": "code",
   "execution_count": null,
   "id": "01e45f48",
   "metadata": {},
   "outputs": [],
   "source": []
  },
  {
   "cell_type": "code",
   "execution_count": null,
   "id": "81ed2b15",
   "metadata": {},
   "outputs": [],
   "source": []
  },
  {
   "cell_type": "code",
   "execution_count": null,
   "id": "bf3221f6",
   "metadata": {},
   "outputs": [],
   "source": []
  },
  {
   "cell_type": "code",
   "execution_count": 66,
   "id": "965e9010",
   "metadata": {},
   "outputs": [],
   "source": [
    "import numpy as np\n",
    "import cv2\n",
    "\n",
    "src    = cv2.imread(\"../Images/distorted_images/checks_barrel (1).png\")\n",
    "width  = src.shape[1]\n",
    "height = src.shape[0]\n",
    "\n",
    "distCoeff = np.zeros((4,1),np.float64)\n",
    "\n",
    "# TODO: add your coefficients here!\n",
    "k1 = -6.3100000000000006e-05; # negative to remove barrel distortion\n",
    "k2 = 0;\n",
    "p1 = 0;\n",
    "p2 = 0\n",
    "#p2 = 40.0e-5;\n",
    "\n",
    "distCoeff[0,0] = k1;\n",
    "distCoeff[1,0] = k2;\n",
    "distCoeff[2,0] = p1;\n",
    "distCoeff[3,0] = p2;\n",
    "\n",
    "# assume unit matrix for camera\n",
    "cam = np.eye(3,dtype=np.float32)\n",
    "\n",
    "cam[0,2] = width/2.0  # define center x\n",
    "cam[1,2] = height/2.0 # define center y\n",
    "cam[0,0] = 10.        # define focal length x\n",
    "cam[1,1] = 10.        # define focal length y\n",
    "\n",
    "# here the undistortion will be computed\n",
    "dst = cv2.undistort(src,cam,distCoeff)\n",
    "cv2.imwrite('../Images/distorted_images/checks_barrel_result.png',dst)\n",
    "cv2.imshow('dst',dst)\n",
    "cv2.waitKey(0)\n",
    "cv2.destroyAllWindows()"
   ]
  },
  {
   "cell_type": "code",
   "execution_count": null,
   "id": "d6ae84ae",
   "metadata": {},
   "outputs": [],
   "source": []
  },
  {
   "cell_type": "code",
   "execution_count": null,
   "id": "2d4012ee",
   "metadata": {},
   "outputs": [],
   "source": []
  },
  {
   "cell_type": "code",
   "execution_count": null,
   "id": "cf0f6ba0",
   "metadata": {},
   "outputs": [],
   "source": []
  },
  {
   "cell_type": "code",
   "execution_count": null,
   "id": "a900b91a",
   "metadata": {},
   "outputs": [],
   "source": []
  },
  {
   "cell_type": "code",
   "execution_count": null,
   "id": "eff933df",
   "metadata": {},
   "outputs": [],
   "source": []
  },
  {
   "cell_type": "code",
   "execution_count": null,
   "id": "2895884d",
   "metadata": {},
   "outputs": [],
   "source": []
  },
  {
   "cell_type": "code",
   "execution_count": null,
   "id": "e4479662",
   "metadata": {},
   "outputs": [],
   "source": []
  },
  {
   "cell_type": "code",
   "execution_count": null,
   "id": "1b1394fe",
   "metadata": {},
   "outputs": [],
   "source": []
  },
  {
   "cell_type": "markdown",
   "id": "70be47dc",
   "metadata": {},
   "source": [
    "##\n",
    "\n",
    "\n",
    "\n",
    "import numpy as np\n",
    "import cv2\n",
    "\n",
    "src    = cv2.imread(\"../Images/distorted_images/distortion_0.1.png\")\n",
    "width  = src.shape[1]\n",
    "height = src.shape[0]\n",
    "\n",
    "distCoeff = np.zeros((4,1),np.float64)\n",
    "\n",
    "# TODO: add your coefficients here!\n",
    "k1 = -12.0e-5; # negative to remove barrel distortion\n",
    "k2 = -12.0e-5;\n",
    "p1 = 0;\n",
    "#p1 = 0\n",
    "p2 = 40.0e-5;\n",
    "\n",
    "distCoeff[0,0] = k1;\n",
    "distCoeff[1,0] = k2;\n",
    "distCoeff[2,0] = p1;\n",
    "distCoeff[3,0] = p2;\n",
    "\n",
    "# assume unit matrix for camera\n",
    "cam = np.eye(3,dtype=np.float32)\n",
    "\n",
    "cam[0,2] = width/2.0  # define center x\n",
    "cam[1,2] = height/2.0 # define center y\n",
    "cam[0,0] = 10.        # define focal length x\n",
    "cam[1,1] = 10.        # define focal length y\n",
    "\n",
    "# here the undistortion will be computed\n",
    "dst = cv2.undistort(src,cam,distCoeff)\n",
    "#cv2.imwrite('../Images/undistorted_barrel_2.png',dst)\n",
    "cv2.imshow('dst',dst)\n",
    "cv2.waitKey(0)\n",
    "cv2.destroyAllWindows()\n",
    "##"
   ]
  },
  {
   "cell_type": "code",
   "execution_count": null,
   "id": "5b3e3976",
   "metadata": {},
   "outputs": [],
   "source": []
  }
 ],
 "metadata": {
  "kernelspec": {
   "display_name": "Python 3",
   "language": "python",
   "name": "python3"
  },
  "language_info": {
   "codemirror_mode": {
    "name": "ipython",
    "version": 3
   },
   "file_extension": ".py",
   "mimetype": "text/x-python",
   "name": "python",
   "nbconvert_exporter": "python",
   "pygments_lexer": "ipython3",
   "version": "3.6.15"
  }
 },
 "nbformat": 4,
 "nbformat_minor": 5
}
